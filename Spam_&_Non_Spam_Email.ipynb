{
  "nbformat": 4,
  "nbformat_minor": 0,
  "metadata": {
    "colab": {
      "provenance": [],
      "gpuType": "T4"
    },
    "kernelspec": {
      "name": "python3",
      "display_name": "Python 3"
    },
    "language_info": {
      "name": "python"
    },
    "accelerator": "GPU"
  },
  "cells": [
    {
      "cell_type": "markdown",
      "source": [
        "# Import Libraries"
      ],
      "metadata": {
        "id": "FyeLJD_m5wLc"
      }
    },
    {
      "cell_type": "code",
      "execution_count": null,
      "metadata": {
        "id": "ij8eCJz9by56"
      },
      "outputs": [],
      "source": [
        "# Analysis Libraries\n",
        "import numpy as np\n",
        "import pandas as pd\n",
        "# Regex\n",
        "import re \n",
        "# Natural Language Toolkil\n",
        "import nltk\n",
        "# Tokenization\n",
        "from nltk.stem import WordNetLemmatizer\n",
        "wordnet_lemmatizer = WordNetLemmatizer()\n",
        "# Stopwords\n",
        "from nltk.corpus import stopwords\n",
        "# vectorization\n",
        "from sklearn.feature_extraction.text import CountVectorizer\n",
        "# Model Buidling\n",
        "## Feature Engineering\n",
        "from sklearn.model_selection import train_test_split\n",
        "## BernoulliNB Model\n",
        "from sklearn.naive_bayes import BernoulliNB\n",
        "## Logistic Regression Model\n",
        "from sklearn.linear_model import LogisticRegression\n",
        "# save the model\n",
        "import pickle"
      ]
    },
    {
      "cell_type": "markdown",
      "source": [
        "# Download the Packages"
      ],
      "metadata": {
        "id": "CrS8DnLT1u-J"
      }
    },
    {
      "cell_type": "code",
      "source": [
        "from sqlalchemy.sql.expression import text\n",
        "# Tokennize the text \n",
        "nltk.download('punkt')\n",
        "# Lemmentize the text\n",
        "nltk.download('wordnet')\n",
        "# Stop words \n",
        "nltk.download('stopwords')\n",
        "stopword = stopwords.words('english')"
      ],
      "metadata": {
        "colab": {
          "base_uri": "https://localhost:8080/"
        },
        "id": "jqQCvKRl1ywh",
        "outputId": "10fe1daa-3ec6-48d4-a9e3-8a369ce5657f"
      },
      "execution_count": null,
      "outputs": [
        {
          "output_type": "stream",
          "name": "stderr",
          "text": [
            "[nltk_data] Downloading package punkt to /root/nltk_data...\n",
            "[nltk_data]   Package punkt is already up-to-date!\n",
            "[nltk_data] Downloading package wordnet to /root/nltk_data...\n",
            "[nltk_data]   Package wordnet is already up-to-date!\n",
            "[nltk_data] Downloading package stopwords to /root/nltk_data...\n",
            "[nltk_data]   Package stopwords is already up-to-date!\n"
          ]
        }
      ]
    },
    {
      "cell_type": "markdown",
      "source": [
        "# Read Dataset"
      ],
      "metadata": {
        "id": "ABcVS2OQyhkK"
      }
    },
    {
      "cell_type": "code",
      "source": [
        "spam_email=pd.read_csv('/content/spam_ham_dataset.csv')\n",
        "print(spam_email)"
      ],
      "metadata": {
        "colab": {
          "base_uri": "https://localhost:8080/"
        },
        "id": "ZvtMI_WqchP4",
        "outputId": "00094356-6f6e-40d6-c7a4-814f722b3de1"
      },
      "execution_count": null,
      "outputs": [
        {
          "output_type": "stream",
          "name": "stdout",
          "text": [
            "      Unnamed: 0 label                                               text  \\\n",
            "0            605   ham  Subject: enron methanol ; meter # : 988291\\r\\n...   \n",
            "1           2349   ham  Subject: hpl nom for january 9 , 2001\\r\\n( see...   \n",
            "2           3624   ham  Subject: neon retreat\\r\\nho ho ho , we ' re ar...   \n",
            "3           4685  spam  Subject: photoshop , windows , office . cheap ...   \n",
            "4           2030   ham  Subject: re : indian springs\\r\\nthis deal is t...   \n",
            "...          ...   ...                                                ...   \n",
            "5166        1518   ham  Subject: put the 10 on the ft\\r\\nthe transport...   \n",
            "5167         404   ham  Subject: 3 / 4 / 2000 and following noms\\r\\nhp...   \n",
            "5168        2933   ham  Subject: calpine daily gas nomination\\r\\n>\\r\\n...   \n",
            "5169        1409   ham  Subject: industrial worksheets for august 2000...   \n",
            "5170        4807  spam  Subject: important online banking alert\\r\\ndea...   \n",
            "\n",
            "      label_num  \n",
            "0             0  \n",
            "1             0  \n",
            "2             0  \n",
            "3             1  \n",
            "4             0  \n",
            "...         ...  \n",
            "5166          0  \n",
            "5167          0  \n",
            "5168          0  \n",
            "5169          0  \n",
            "5170          1  \n",
            "\n",
            "[5171 rows x 4 columns]\n"
          ]
        }
      ]
    },
    {
      "cell_type": "code",
      "source": [
        "# shape\n",
        "spam_email.shape"
      ],
      "metadata": {
        "colab": {
          "base_uri": "https://localhost:8080/"
        },
        "id": "IxVJqp9McwsR",
        "outputId": "97a8b563-8d77-4aae-be5a-7a4d00939a86"
      },
      "execution_count": null,
      "outputs": [
        {
          "output_type": "execute_result",
          "data": {
            "text/plain": [
              "(5171, 4)"
            ]
          },
          "metadata": {},
          "execution_count": 137
        }
      ]
    },
    {
      "cell_type": "markdown",
      "source": [
        "# Data Preprocessing"
      ],
      "metadata": {
        "id": "lNRYbuNHc1yJ"
      }
    },
    {
      "cell_type": "code",
      "source": [
        "# identify the null values\n",
        "spam_email.isnull().sum()"
      ],
      "metadata": {
        "colab": {
          "base_uri": "https://localhost:8080/"
        },
        "id": "Ri7VZApAc66G",
        "outputId": "22ea5104-bb15-4cc0-8e09-e24de0de2cba"
      },
      "execution_count": null,
      "outputs": [
        {
          "output_type": "execute_result",
          "data": {
            "text/plain": [
              "Unnamed: 0    0\n",
              "label         0\n",
              "text          0\n",
              "label_num     0\n",
              "dtype: int64"
            ]
          },
          "metadata": {},
          "execution_count": 138
        }
      ]
    },
    {
      "cell_type": "code",
      "source": [
        "# drop the columns\n",
        "spam_email=spam_email.drop(columns=['Unnamed: 0' , 'label'])"
      ],
      "metadata": {
        "id": "_qbGmS34dFH-"
      },
      "execution_count": null,
      "outputs": []
    },
    {
      "cell_type": "code",
      "source": [
        "spam_email['text'][0]"
      ],
      "metadata": {
        "colab": {
          "base_uri": "https://localhost:8080/",
          "height": 72
        },
        "id": "dBQecg27z94M",
        "outputId": "3e105a74-1755-452b-ca6f-f4b628295a74"
      },
      "execution_count": null,
      "outputs": [
        {
          "output_type": "execute_result",
          "data": {
            "text/plain": [
              "\"Subject: enron methanol ; meter # : 988291\\r\\nthis is a follow up to the note i gave you on monday , 4 / 3 / 00 { preliminary\\r\\nflow data provided by daren } .\\r\\nplease override pop ' s daily volume { presently zero } to reflect daily\\r\\nactivity you can obtain from gas control .\\r\\nthis change is needed asap for economics purposes .\""
            ],
            "application/vnd.google.colaboratory.intrinsic+json": {
              "type": "string"
            }
          },
          "metadata": {},
          "execution_count": 140
        }
      ]
    },
    {
      "cell_type": "markdown",
      "source": [
        "# Text Data Preprocessing"
      ],
      "metadata": {
        "id": "5hytXpHsy_bD"
      }
    },
    {
      "cell_type": "code",
      "source": [
        "def text_preprocess(text):\n",
        "  # remove the punctiation\n",
        "  cleaned_punc = re.sub(r'[^\\w\\s]+', '', text)\n",
        "  # remove the url\n",
        "  cleaned_url = re.sub(r'http\\S+', '', cleaned_punc)\n",
        "  # remove the special character & number\n",
        "  cleaned_spec_number = re.sub(r'[^A-Za-z.]+', ' ',cleaned_url)\n",
        "  # remove the tag from text\n",
        "  cleaned_tag = re.sub('<[^<]+?>', ' ', cleaned_spec_number)\n",
        "  return cleaned_tag"
      ],
      "metadata": {
        "id": "Qau5QaHEzM9l"
      },
      "execution_count": null,
      "outputs": []
    },
    {
      "cell_type": "code",
      "source": [
        "# Iterate over DataFrame and clean the 'text' column\n",
        "spam_email['text'] =[text_preprocess(spam_email['text'][i]) for i in range(len(spam_email))]"
      ],
      "metadata": {
        "id": "kBWcFM-EztIk"
      },
      "execution_count": null,
      "outputs": []
    },
    {
      "cell_type": "code",
      "source": [
        "spam_email.head(5)"
      ],
      "metadata": {
        "colab": {
          "base_uri": "https://localhost:8080/",
          "height": 206
        },
        "id": "A2sH3N4Izy1Z",
        "outputId": "e2e60816-2b5f-4497-fe1d-3c69eaf87fe4"
      },
      "execution_count": null,
      "outputs": [
        {
          "output_type": "execute_result",
          "data": {
            "text/plain": [
              "                                                text  label_num\n",
              "0  Subject enron methanol meter this is a follow ...          0\n",
              "1  Subject hpl nom for january see attached file ...          0\n",
              "2  Subject neon retreat ho ho ho we re around to ...          0\n",
              "3  Subject photoshop windows office cheap main tr...          1\n",
              "4  Subject re indian springs this deal is to book...          0"
            ],
            "text/html": [
              "\n",
              "  <div id=\"df-da5ae5c3-b79b-48a3-8d0b-aa4139f2288d\">\n",
              "    <div class=\"colab-df-container\">\n",
              "      <div>\n",
              "<style scoped>\n",
              "    .dataframe tbody tr th:only-of-type {\n",
              "        vertical-align: middle;\n",
              "    }\n",
              "\n",
              "    .dataframe tbody tr th {\n",
              "        vertical-align: top;\n",
              "    }\n",
              "\n",
              "    .dataframe thead th {\n",
              "        text-align: right;\n",
              "    }\n",
              "</style>\n",
              "<table border=\"1\" class=\"dataframe\">\n",
              "  <thead>\n",
              "    <tr style=\"text-align: right;\">\n",
              "      <th></th>\n",
              "      <th>text</th>\n",
              "      <th>label_num</th>\n",
              "    </tr>\n",
              "  </thead>\n",
              "  <tbody>\n",
              "    <tr>\n",
              "      <th>0</th>\n",
              "      <td>Subject enron methanol meter this is a follow ...</td>\n",
              "      <td>0</td>\n",
              "    </tr>\n",
              "    <tr>\n",
              "      <th>1</th>\n",
              "      <td>Subject hpl nom for january see attached file ...</td>\n",
              "      <td>0</td>\n",
              "    </tr>\n",
              "    <tr>\n",
              "      <th>2</th>\n",
              "      <td>Subject neon retreat ho ho ho we re around to ...</td>\n",
              "      <td>0</td>\n",
              "    </tr>\n",
              "    <tr>\n",
              "      <th>3</th>\n",
              "      <td>Subject photoshop windows office cheap main tr...</td>\n",
              "      <td>1</td>\n",
              "    </tr>\n",
              "    <tr>\n",
              "      <th>4</th>\n",
              "      <td>Subject re indian springs this deal is to book...</td>\n",
              "      <td>0</td>\n",
              "    </tr>\n",
              "  </tbody>\n",
              "</table>\n",
              "</div>\n",
              "      <button class=\"colab-df-convert\" onclick=\"convertToInteractive('df-da5ae5c3-b79b-48a3-8d0b-aa4139f2288d')\"\n",
              "              title=\"Convert this dataframe to an interactive table.\"\n",
              "              style=\"display:none;\">\n",
              "        \n",
              "  <svg xmlns=\"http://www.w3.org/2000/svg\" height=\"24px\"viewBox=\"0 0 24 24\"\n",
              "       width=\"24px\">\n",
              "    <path d=\"M0 0h24v24H0V0z\" fill=\"none\"/>\n",
              "    <path d=\"M18.56 5.44l.94 2.06.94-2.06 2.06-.94-2.06-.94-.94-2.06-.94 2.06-2.06.94zm-11 1L8.5 8.5l.94-2.06 2.06-.94-2.06-.94L8.5 2.5l-.94 2.06-2.06.94zm10 10l.94 2.06.94-2.06 2.06-.94-2.06-.94-.94-2.06-.94 2.06-2.06.94z\"/><path d=\"M17.41 7.96l-1.37-1.37c-.4-.4-.92-.59-1.43-.59-.52 0-1.04.2-1.43.59L10.3 9.45l-7.72 7.72c-.78.78-.78 2.05 0 2.83L4 21.41c.39.39.9.59 1.41.59.51 0 1.02-.2 1.41-.59l7.78-7.78 2.81-2.81c.8-.78.8-2.07 0-2.86zM5.41 20L4 18.59l7.72-7.72 1.47 1.35L5.41 20z\"/>\n",
              "  </svg>\n",
              "      </button>\n",
              "      \n",
              "  <style>\n",
              "    .colab-df-container {\n",
              "      display:flex;\n",
              "      flex-wrap:wrap;\n",
              "      gap: 12px;\n",
              "    }\n",
              "\n",
              "    .colab-df-convert {\n",
              "      background-color: #E8F0FE;\n",
              "      border: none;\n",
              "      border-radius: 50%;\n",
              "      cursor: pointer;\n",
              "      display: none;\n",
              "      fill: #1967D2;\n",
              "      height: 32px;\n",
              "      padding: 0 0 0 0;\n",
              "      width: 32px;\n",
              "    }\n",
              "\n",
              "    .colab-df-convert:hover {\n",
              "      background-color: #E2EBFA;\n",
              "      box-shadow: 0px 1px 2px rgba(60, 64, 67, 0.3), 0px 1px 3px 1px rgba(60, 64, 67, 0.15);\n",
              "      fill: #174EA6;\n",
              "    }\n",
              "\n",
              "    [theme=dark] .colab-df-convert {\n",
              "      background-color: #3B4455;\n",
              "      fill: #D2E3FC;\n",
              "    }\n",
              "\n",
              "    [theme=dark] .colab-df-convert:hover {\n",
              "      background-color: #434B5C;\n",
              "      box-shadow: 0px 1px 3px 1px rgba(0, 0, 0, 0.15);\n",
              "      filter: drop-shadow(0px 1px 2px rgba(0, 0, 0, 0.3));\n",
              "      fill: #FFFFFF;\n",
              "    }\n",
              "  </style>\n",
              "\n",
              "      <script>\n",
              "        const buttonEl =\n",
              "          document.querySelector('#df-da5ae5c3-b79b-48a3-8d0b-aa4139f2288d button.colab-df-convert');\n",
              "        buttonEl.style.display =\n",
              "          google.colab.kernel.accessAllowed ? 'block' : 'none';\n",
              "\n",
              "        async function convertToInteractive(key) {\n",
              "          const element = document.querySelector('#df-da5ae5c3-b79b-48a3-8d0b-aa4139f2288d');\n",
              "          const dataTable =\n",
              "            await google.colab.kernel.invokeFunction('convertToInteractive',\n",
              "                                                     [key], {});\n",
              "          if (!dataTable) return;\n",
              "\n",
              "          const docLinkHtml = 'Like what you see? Visit the ' +\n",
              "            '<a target=\"_blank\" href=https://colab.research.google.com/notebooks/data_table.ipynb>data table notebook</a>'\n",
              "            + ' to learn more about interactive tables.';\n",
              "          element.innerHTML = '';\n",
              "          dataTable['output_type'] = 'display_data';\n",
              "          await google.colab.output.renderOutput(dataTable, element);\n",
              "          const docLink = document.createElement('div');\n",
              "          docLink.innerHTML = docLinkHtml;\n",
              "          element.appendChild(docLink);\n",
              "        }\n",
              "      </script>\n",
              "    </div>\n",
              "  </div>\n",
              "  "
            ]
          },
          "metadata": {},
          "execution_count": 143
        }
      ]
    },
    {
      "cell_type": "markdown",
      "source": [
        "### Tokenization and Lower Case"
      ],
      "metadata": {
        "id": "rMdJrM6xhBDa"
      }
    },
    {
      "cell_type": "code",
      "source": [
        "from nltk.tokenize import word_tokenize\n",
        "# Function to remove tags\n",
        "def Token(text):\n",
        "  tokens = word_tokenize(text)\n",
        "  lowercase_tokens = [token.lower() for token in tokens]\n",
        "  return lowercase_tokens\n",
        "\n",
        "# Iterate over DataFrame and clean the 'text' column\n",
        "spam_email['text'] = [Token(spam_email['text'][i]) for i in range(len(spam_email))]"
      ],
      "metadata": {
        "id": "BXGryglrhW8y"
      },
      "execution_count": null,
      "outputs": []
    },
    {
      "cell_type": "markdown",
      "source": [
        "### Lemmatization"
      ],
      "metadata": {
        "id": "zYKPMN5M5b_E"
      }
    },
    {
      "cell_type": "code",
      "source": [
        "def lem(text):\n",
        "  lemmatized_word = [wordnet_lemmatizer.lemmatize(word) for word in text]\n",
        "  return lemmatized_word\n",
        "\n",
        "# Iterate over DataFrame and clean the 'text' column\n",
        "spam_email['text'] = [lem(spam_email['text'][i]) for i in range(len(spam_email))]"
      ],
      "metadata": {
        "id": "kklTA6Gu5iX7"
      },
      "execution_count": null,
      "outputs": []
    },
    {
      "cell_type": "markdown",
      "source": [
        "### Stopwords"
      ],
      "metadata": {
        "id": "9uxhFBNZ6LP9"
      }
    },
    {
      "cell_type": "code",
      "source": [
        "def stop_words(text):\n",
        "  removing_stopwords = [word for word in text if word not in stopword]\n",
        "  return removing_stopwords\n",
        "\n",
        "# Iterate over DataFrame and clean the 'text' column\n",
        "spam_email['text'] = [stop_words(spam_email['text'][i]) for i in range(len(spam_email))]"
      ],
      "metadata": {
        "id": "G60U4O5h6bkr"
      },
      "execution_count": null,
      "outputs": []
    },
    {
      "cell_type": "code",
      "source": [
        "def join_text(text):\n",
        "  text=' '.join(text)\n",
        "  return text\n",
        "\n",
        "# Iterate over DataFrame and clean the 'text' column\n",
        "spam_email['text'] = [join_text(spam_email['text'][i]) for i in range(len(spam_email))]"
      ],
      "metadata": {
        "id": "824Z5c__ZAwl"
      },
      "execution_count": null,
      "outputs": []
    },
    {
      "cell_type": "code",
      "source": [
        "# Split the Dataset\n",
        "x=spam_email['text']   # Training Features\n",
        "y=spam_email['label_num']   # Target Feature"
      ],
      "metadata": {
        "id": "F7Snw94gbd3H"
      },
      "execution_count": null,
      "outputs": []
    },
    {
      "cell_type": "code",
      "source": [
        "print(x.shape)\n",
        "print(y.shape)"
      ],
      "metadata": {
        "colab": {
          "base_uri": "https://localhost:8080/"
        },
        "id": "XSexaANCbpXU",
        "outputId": "721ab8d2-eccc-47ed-80c6-8cfe7bf57111"
      },
      "execution_count": null,
      "outputs": [
        {
          "output_type": "stream",
          "name": "stdout",
          "text": [
            "(5171,)\n",
            "(5171,)\n"
          ]
        }
      ]
    },
    {
      "cell_type": "markdown",
      "source": [
        "# Text Feature Extraction "
      ],
      "metadata": {
        "id": "7fwSibfD7VMo"
      }
    },
    {
      "cell_type": "markdown",
      "source": [
        "### Count Vectorization"
      ],
      "metadata": {
        "id": "DeIq5qBpDVgQ"
      }
    },
    {
      "cell_type": "code",
      "source": [
        "MIN_DF = 10\n",
        "vec = CountVectorizer(min_df=MIN_DF)\n",
        "vec_class = vec.fit_transform(x)\n",
        "vec_arr = vec_class.toarray()\n",
        "x = pd.DataFrame(vec_arr,columns=vec.get_feature_names_out())\n",
        "x.head()"
      ],
      "metadata": {
        "colab": {
          "base_uri": "https://localhost:8080/",
          "height": 279
        },
        "id": "RbqbF4XQZ0W5",
        "outputId": "981f4e7d-27f2-4528-8671-3acd29b014c4"
      },
      "execution_count": null,
      "outputs": [
        {
          "output_type": "execute_result",
          "data": {
            "text/plain": [
              "   aa  abdominal  ability  able  absence  absolute  absolutely  ac  accept  \\\n",
              "0   0          0        0     0        0         0           0   0       0   \n",
              "1   0          0        0     0        0         0           0   0       0   \n",
              "2   0          0        0     0        0         0           0   0       0   \n",
              "3   0          0        0     0        0         0           0   0       0   \n",
              "4   0          0        0     0        0         0           0   0       0   \n",
              "\n",
              "   acceptance  ...  yr  yvette  zajac  zenith  zero  zeroed  zivley  zone  \\\n",
              "0           0  ...   0       0      0       0     1       0       0     0   \n",
              "1           0  ...   0       0      0       0     0       0       0     0   \n",
              "2           0  ...   0       0      0       0     0       0       0     0   \n",
              "3           0  ...   0       0      0       0     0       0       0     0   \n",
              "4           0  ...   0       0      0       0     0       0       0     0   \n",
              "\n",
              "   zonedubai  zyban  \n",
              "0          0      0  \n",
              "1          0      0  \n",
              "2          0      0  \n",
              "3          0      0  \n",
              "4          0      0  \n",
              "\n",
              "[5 rows x 4038 columns]"
            ],
            "text/html": [
              "\n",
              "  <div id=\"df-56ff2b92-a823-4004-b2d1-e7639cdd4d18\">\n",
              "    <div class=\"colab-df-container\">\n",
              "      <div>\n",
              "<style scoped>\n",
              "    .dataframe tbody tr th:only-of-type {\n",
              "        vertical-align: middle;\n",
              "    }\n",
              "\n",
              "    .dataframe tbody tr th {\n",
              "        vertical-align: top;\n",
              "    }\n",
              "\n",
              "    .dataframe thead th {\n",
              "        text-align: right;\n",
              "    }\n",
              "</style>\n",
              "<table border=\"1\" class=\"dataframe\">\n",
              "  <thead>\n",
              "    <tr style=\"text-align: right;\">\n",
              "      <th></th>\n",
              "      <th>aa</th>\n",
              "      <th>abdominal</th>\n",
              "      <th>ability</th>\n",
              "      <th>able</th>\n",
              "      <th>absence</th>\n",
              "      <th>absolute</th>\n",
              "      <th>absolutely</th>\n",
              "      <th>ac</th>\n",
              "      <th>accept</th>\n",
              "      <th>acceptance</th>\n",
              "      <th>...</th>\n",
              "      <th>yr</th>\n",
              "      <th>yvette</th>\n",
              "      <th>zajac</th>\n",
              "      <th>zenith</th>\n",
              "      <th>zero</th>\n",
              "      <th>zeroed</th>\n",
              "      <th>zivley</th>\n",
              "      <th>zone</th>\n",
              "      <th>zonedubai</th>\n",
              "      <th>zyban</th>\n",
              "    </tr>\n",
              "  </thead>\n",
              "  <tbody>\n",
              "    <tr>\n",
              "      <th>0</th>\n",
              "      <td>0</td>\n",
              "      <td>0</td>\n",
              "      <td>0</td>\n",
              "      <td>0</td>\n",
              "      <td>0</td>\n",
              "      <td>0</td>\n",
              "      <td>0</td>\n",
              "      <td>0</td>\n",
              "      <td>0</td>\n",
              "      <td>0</td>\n",
              "      <td>...</td>\n",
              "      <td>0</td>\n",
              "      <td>0</td>\n",
              "      <td>0</td>\n",
              "      <td>0</td>\n",
              "      <td>1</td>\n",
              "      <td>0</td>\n",
              "      <td>0</td>\n",
              "      <td>0</td>\n",
              "      <td>0</td>\n",
              "      <td>0</td>\n",
              "    </tr>\n",
              "    <tr>\n",
              "      <th>1</th>\n",
              "      <td>0</td>\n",
              "      <td>0</td>\n",
              "      <td>0</td>\n",
              "      <td>0</td>\n",
              "      <td>0</td>\n",
              "      <td>0</td>\n",
              "      <td>0</td>\n",
              "      <td>0</td>\n",
              "      <td>0</td>\n",
              "      <td>0</td>\n",
              "      <td>...</td>\n",
              "      <td>0</td>\n",
              "      <td>0</td>\n",
              "      <td>0</td>\n",
              "      <td>0</td>\n",
              "      <td>0</td>\n",
              "      <td>0</td>\n",
              "      <td>0</td>\n",
              "      <td>0</td>\n",
              "      <td>0</td>\n",
              "      <td>0</td>\n",
              "    </tr>\n",
              "    <tr>\n",
              "      <th>2</th>\n",
              "      <td>0</td>\n",
              "      <td>0</td>\n",
              "      <td>0</td>\n",
              "      <td>0</td>\n",
              "      <td>0</td>\n",
              "      <td>0</td>\n",
              "      <td>0</td>\n",
              "      <td>0</td>\n",
              "      <td>0</td>\n",
              "      <td>0</td>\n",
              "      <td>...</td>\n",
              "      <td>0</td>\n",
              "      <td>0</td>\n",
              "      <td>0</td>\n",
              "      <td>0</td>\n",
              "      <td>0</td>\n",
              "      <td>0</td>\n",
              "      <td>0</td>\n",
              "      <td>0</td>\n",
              "      <td>0</td>\n",
              "      <td>0</td>\n",
              "    </tr>\n",
              "    <tr>\n",
              "      <th>3</th>\n",
              "      <td>0</td>\n",
              "      <td>0</td>\n",
              "      <td>0</td>\n",
              "      <td>0</td>\n",
              "      <td>0</td>\n",
              "      <td>0</td>\n",
              "      <td>0</td>\n",
              "      <td>0</td>\n",
              "      <td>0</td>\n",
              "      <td>0</td>\n",
              "      <td>...</td>\n",
              "      <td>0</td>\n",
              "      <td>0</td>\n",
              "      <td>0</td>\n",
              "      <td>0</td>\n",
              "      <td>0</td>\n",
              "      <td>0</td>\n",
              "      <td>0</td>\n",
              "      <td>0</td>\n",
              "      <td>0</td>\n",
              "      <td>0</td>\n",
              "    </tr>\n",
              "    <tr>\n",
              "      <th>4</th>\n",
              "      <td>0</td>\n",
              "      <td>0</td>\n",
              "      <td>0</td>\n",
              "      <td>0</td>\n",
              "      <td>0</td>\n",
              "      <td>0</td>\n",
              "      <td>0</td>\n",
              "      <td>0</td>\n",
              "      <td>0</td>\n",
              "      <td>0</td>\n",
              "      <td>...</td>\n",
              "      <td>0</td>\n",
              "      <td>0</td>\n",
              "      <td>0</td>\n",
              "      <td>0</td>\n",
              "      <td>0</td>\n",
              "      <td>0</td>\n",
              "      <td>0</td>\n",
              "      <td>0</td>\n",
              "      <td>0</td>\n",
              "      <td>0</td>\n",
              "    </tr>\n",
              "  </tbody>\n",
              "</table>\n",
              "<p>5 rows × 4038 columns</p>\n",
              "</div>\n",
              "      <button class=\"colab-df-convert\" onclick=\"convertToInteractive('df-56ff2b92-a823-4004-b2d1-e7639cdd4d18')\"\n",
              "              title=\"Convert this dataframe to an interactive table.\"\n",
              "              style=\"display:none;\">\n",
              "        \n",
              "  <svg xmlns=\"http://www.w3.org/2000/svg\" height=\"24px\"viewBox=\"0 0 24 24\"\n",
              "       width=\"24px\">\n",
              "    <path d=\"M0 0h24v24H0V0z\" fill=\"none\"/>\n",
              "    <path d=\"M18.56 5.44l.94 2.06.94-2.06 2.06-.94-2.06-.94-.94-2.06-.94 2.06-2.06.94zm-11 1L8.5 8.5l.94-2.06 2.06-.94-2.06-.94L8.5 2.5l-.94 2.06-2.06.94zm10 10l.94 2.06.94-2.06 2.06-.94-2.06-.94-.94-2.06-.94 2.06-2.06.94z\"/><path d=\"M17.41 7.96l-1.37-1.37c-.4-.4-.92-.59-1.43-.59-.52 0-1.04.2-1.43.59L10.3 9.45l-7.72 7.72c-.78.78-.78 2.05 0 2.83L4 21.41c.39.39.9.59 1.41.59.51 0 1.02-.2 1.41-.59l7.78-7.78 2.81-2.81c.8-.78.8-2.07 0-2.86zM5.41 20L4 18.59l7.72-7.72 1.47 1.35L5.41 20z\"/>\n",
              "  </svg>\n",
              "      </button>\n",
              "      \n",
              "  <style>\n",
              "    .colab-df-container {\n",
              "      display:flex;\n",
              "      flex-wrap:wrap;\n",
              "      gap: 12px;\n",
              "    }\n",
              "\n",
              "    .colab-df-convert {\n",
              "      background-color: #E8F0FE;\n",
              "      border: none;\n",
              "      border-radius: 50%;\n",
              "      cursor: pointer;\n",
              "      display: none;\n",
              "      fill: #1967D2;\n",
              "      height: 32px;\n",
              "      padding: 0 0 0 0;\n",
              "      width: 32px;\n",
              "    }\n",
              "\n",
              "    .colab-df-convert:hover {\n",
              "      background-color: #E2EBFA;\n",
              "      box-shadow: 0px 1px 2px rgba(60, 64, 67, 0.3), 0px 1px 3px 1px rgba(60, 64, 67, 0.15);\n",
              "      fill: #174EA6;\n",
              "    }\n",
              "\n",
              "    [theme=dark] .colab-df-convert {\n",
              "      background-color: #3B4455;\n",
              "      fill: #D2E3FC;\n",
              "    }\n",
              "\n",
              "    [theme=dark] .colab-df-convert:hover {\n",
              "      background-color: #434B5C;\n",
              "      box-shadow: 0px 1px 3px 1px rgba(0, 0, 0, 0.15);\n",
              "      filter: drop-shadow(0px 1px 2px rgba(0, 0, 0, 0.3));\n",
              "      fill: #FFFFFF;\n",
              "    }\n",
              "  </style>\n",
              "\n",
              "      <script>\n",
              "        const buttonEl =\n",
              "          document.querySelector('#df-56ff2b92-a823-4004-b2d1-e7639cdd4d18 button.colab-df-convert');\n",
              "        buttonEl.style.display =\n",
              "          google.colab.kernel.accessAllowed ? 'block' : 'none';\n",
              "\n",
              "        async function convertToInteractive(key) {\n",
              "          const element = document.querySelector('#df-56ff2b92-a823-4004-b2d1-e7639cdd4d18');\n",
              "          const dataTable =\n",
              "            await google.colab.kernel.invokeFunction('convertToInteractive',\n",
              "                                                     [key], {});\n",
              "          if (!dataTable) return;\n",
              "\n",
              "          const docLinkHtml = 'Like what you see? Visit the ' +\n",
              "            '<a target=\"_blank\" href=https://colab.research.google.com/notebooks/data_table.ipynb>data table notebook</a>'\n",
              "            + ' to learn more about interactive tables.';\n",
              "          element.innerHTML = '';\n",
              "          dataTable['output_type'] = 'display_data';\n",
              "          await google.colab.output.renderOutput(dataTable, element);\n",
              "          const docLink = document.createElement('div');\n",
              "          docLink.innerHTML = docLinkHtml;\n",
              "          element.appendChild(docLink);\n",
              "        }\n",
              "      </script>\n",
              "    </div>\n",
              "  </div>\n",
              "  "
            ]
          },
          "metadata": {},
          "execution_count": 150
        }
      ]
    },
    {
      "cell_type": "code",
      "source": [
        "x.shape"
      ],
      "metadata": {
        "colab": {
          "base_uri": "https://localhost:8080/"
        },
        "id": "hwgOOew1px65",
        "outputId": "258f3aca-0f43-4bc5-f018-5c54cb4297c4"
      },
      "execution_count": null,
      "outputs": [
        {
          "output_type": "execute_result",
          "data": {
            "text/plain": [
              "(5171, 4038)"
            ]
          },
          "metadata": {},
          "execution_count": 151
        }
      ]
    },
    {
      "cell_type": "markdown",
      "source": [
        "# Model Building"
      ],
      "metadata": {
        "id": "d0_NG3dsnnXw"
      }
    },
    {
      "cell_type": "markdown",
      "source": [
        "### Feature Engineering"
      ],
      "metadata": {
        "id": "0p6d27WsqLIY"
      }
    },
    {
      "cell_type": "code",
      "source": [
        "# Split the target and training dataset into tarining and label dataset\n",
        "x_train ,  x_test , y_train , y_test=train_test_split(x,y , test_size=0.25)"
      ],
      "metadata": {
        "id": "YiCWUsEbnuzo"
      },
      "execution_count": null,
      "outputs": []
    },
    {
      "cell_type": "code",
      "source": [
        "# Shape\n",
        "print(x_train.shape)\n",
        "print(y_train.shape)\n",
        "print(x_test.shape)\n",
        "print(y_test.shape)"
      ],
      "metadata": {
        "colab": {
          "base_uri": "https://localhost:8080/"
        },
        "id": "Ily2adFrnuoP",
        "outputId": "00ac6cd4-d40e-4aba-ca1b-6970fac3f95e"
      },
      "execution_count": null,
      "outputs": [
        {
          "output_type": "stream",
          "name": "stdout",
          "text": [
            "(3878, 4038)\n",
            "(3878,)\n",
            "(1293, 4038)\n",
            "(1293,)\n"
          ]
        }
      ]
    },
    {
      "cell_type": "markdown",
      "source": [
        "## Logistic Regression Model"
      ],
      "metadata": {
        "id": "D4R6w8bnqjKM"
      }
    },
    {
      "cell_type": "code",
      "source": [
        "# Create and fit the logistic regression model\n",
        "model_LR = LogisticRegression()\n",
        "model_LR.fit(x_train, y_train)\n",
        "\n",
        "# Calculate the accuracy score\n",
        "score = model_LR.score(x_test, y_test)\n",
        "print(\"Accuracy score:\", score)\n"
      ],
      "metadata": {
        "colab": {
          "base_uri": "https://localhost:8080/"
        },
        "id": "mndKLFC-gk2K",
        "outputId": "034254da-84ce-4b58-a8c1-c02c40c2034f"
      },
      "execution_count": null,
      "outputs": [
        {
          "output_type": "stream",
          "name": "stdout",
          "text": [
            "Accuracy score: 0.9721577726218097\n"
          ]
        }
      ]
    },
    {
      "cell_type": "markdown",
      "source": [
        "## Testing Through Logistic Regression Model"
      ],
      "metadata": {
        "id": "TVOPrbkpqwQt"
      }
    },
    {
      "cell_type": "code",
      "source": [
        "comment1 = [\"100% of daily 1.50 GB data quota exhausted as on 26-May-23 00:31. Jio Number : Daily high speed data quota will be restored on 26-May-23 01:04.To know where you have consumed your data quota, click \"]\n",
        "vect = vec.transform(comment1).toarray()\n",
        "model_LR.predict(vect)\n"
      ],
      "metadata": {
        "id": "OiV8K9sTnuVb",
        "colab": {
          "base_uri": "https://localhost:8080/"
        },
        "outputId": "34b41962-1794-422f-bbfd-bb1f301db272"
      },
      "execution_count": null,
      "outputs": [
        {
          "output_type": "stream",
          "name": "stderr",
          "text": [
            "/usr/local/lib/python3.10/dist-packages/sklearn/base.py:439: UserWarning: X does not have valid feature names, but LogisticRegression was fitted with feature names\n",
            "  warnings.warn(\n"
          ]
        },
        {
          "output_type": "execute_result",
          "data": {
            "text/plain": [
              "array([0])"
            ]
          },
          "metadata": {},
          "execution_count": 156
        }
      ]
    },
    {
      "cell_type": "markdown",
      "source": [
        "## BernoulliNB Model"
      ],
      "metadata": {
        "id": "EmXzsUcqq7nX"
      }
    },
    {
      "cell_type": "code",
      "source": [
        "model_BL = BernoulliNB()\n",
        "# fit the model\n",
        "model_BL.fit(x_train,y_train)\n",
        "# calculate the accuracy\n",
        "score=model_BL.score(x_test,y_test)\n",
        "print(\"Accuracy score:\", score)"
      ],
      "metadata": {
        "id": "Jy8lpz68nuOW",
        "colab": {
          "base_uri": "https://localhost:8080/"
        },
        "outputId": "b1263e73-e61f-4c6e-e87d-69598ccc2803"
      },
      "execution_count": null,
      "outputs": [
        {
          "output_type": "stream",
          "name": "stdout",
          "text": [
            "Accuracy score: 0.9195668986852281\n"
          ]
        }
      ]
    },
    {
      "cell_type": "markdown",
      "source": [
        "## Testing Through BernoulliNB Model"
      ],
      "metadata": {
        "id": "9CzQRjfLrp_S"
      }
    },
    {
      "cell_type": "code",
      "source": [
        "comment1 = [\"100% of daily 1.50 GB data quota exhausted as on 26-May-23 00:31. Jio Number : Daily high speed data quota will be restored on 26-May-23 01:04.To know where you have consumed your data quota, click \"]\n",
        "vect = vec.transform(comment1).toarray()\n",
        "model_BL.predict(vect)"
      ],
      "metadata": {
        "id": "_55gD2hInt6h",
        "colab": {
          "base_uri": "https://localhost:8080/"
        },
        "outputId": "b363ceab-f5da-46df-e730-2b427b614a8e"
      },
      "execution_count": null,
      "outputs": [
        {
          "output_type": "stream",
          "name": "stderr",
          "text": [
            "/usr/local/lib/python3.10/dist-packages/sklearn/base.py:439: UserWarning: X does not have valid feature names, but BernoulliNB was fitted with feature names\n",
            "  warnings.warn(\n"
          ]
        },
        {
          "output_type": "execute_result",
          "data": {
            "text/plain": [
              "array([0])"
            ]
          },
          "metadata": {},
          "execution_count": 158
        }
      ]
    },
    {
      "cell_type": "code",
      "source": [
        "# save the Logistic Regression Model to disk\n",
        "filename = 'model_LR.sav'\n",
        "pickle.dump(model_LR, open(filename, 'wb'))"
      ],
      "metadata": {
        "id": "GR2AM4xrr9hV"
      },
      "execution_count": null,
      "outputs": []
    },
    {
      "cell_type": "code",
      "source": [
        "# save the BernoulliNB Model to disk\n",
        "filename = 'model_BN.sav'\n",
        "pickle.dump(model_BL, open(filename, 'wb'))"
      ],
      "metadata": {
        "id": "5-3qoHkTurem"
      },
      "execution_count": null,
      "outputs": []
    },
    {
      "cell_type": "markdown",
      "source": [
        "# Conclution <br>\n",
        "\n",
        "Our focus on implementing and evaluating two classification models, Logistic Regression and BernoulliNB, to predict spam and non-spam emails. We used a labeled dataset containing instances of both spam and non-spam emails for training and testing purposes.<br>\n",
        "\n",
        "After training the models on the dataset, we achieved an accuracy of 97% with Logistic Regression and 91% with BernoulliNB. These high accuracy scores indicate that both models performed well in distinguishing between spam and non-spam emails.<br>\n",
        "\n",
        "We adopted the convention of assigning the label 0 to represent non-spam emails and 1 to represent spam emails. By utilizing these models, we were able to effectively predict the spam or non-spam status of new, unseen emails.<br>"
      ],
      "metadata": {
        "id": "kMiOs62ar5Q1"
      }
    }
  ]
}